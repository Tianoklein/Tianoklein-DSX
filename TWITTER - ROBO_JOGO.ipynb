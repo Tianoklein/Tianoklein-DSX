{
    "metadata": {
        "language_info": {
            "name": "python", 
            "mimetype": "text/x-python", 
            "nbconvert_exporter": "python", 
            "pygments_lexer": "ipython2", 
            "codemirror_mode": {
                "name": "ipython", 
                "version": 2
            }, 
            "file_extension": ".py", 
            "version": "2.7.11"
        }, 
        "kernelspec": {
            "display_name": "Python 2 with Spark 2.1", 
            "name": "python2-spark21", 
            "language": "python"
        }
    }, 
    "nbformat": 4, 
    "cells": [
        {
            "metadata": {}, 
            "source": "# O Jogo Robo Twitter", 
            "cell_type": "markdown"
        }, 
        {
            "metadata": {}, 
            "source": "A ideia do jogo \u00e9 bastante simples:\n - O jogo inicia com uma matriz 10x10 com 12 presentes espalhados randomicamente.\n - Toda a vez que alguem digitar \"tianoklein\" no twitter, vai indicar que ele quer participar do jogo.\n - Existe 4 comandos: UP, DOWN, LEFT, RIGHT.\n - Deve digitar \"tianoklein  comando\" para andar uma posi\u00e7\u00e3o.\n", 
            "cell_type": "markdown"
        }, 
        {
            "metadata": {}, 
            "source": "## Bugs\n - Problema na hora de marcar \"@usu\u00e1rio\" para quem achou a recompensa\n - O twitter n\u00e3o permite 2 postagens iguais, em um curto espa\u00e7o de tempo.\n - ...", 
            "cell_type": "markdown"
        }, 
        {
            "metadata": {}, 
            "source": "## Import das Bibliotecas", 
            "cell_type": "markdown"
        }, 
        {
            "source": "#!pip install tweepy", 
            "metadata": {}, 
            "execution_count": 1, 
            "cell_type": "code", 
            "outputs": [
                {
                    "name": "stdout", 
                    "output_type": "stream", 
                    "text": "Requirement already satisfied: tweepy in /gpfs/global_fs01/sym_shared/YPProdSpark/user/s400-e7dcb82d1d5e0a-e5f95035749e/.local/lib/python2.7/site-packages\nRequirement already satisfied: six>=1.7.3 in /gpfs/global_fs01/sym_shared/YPProdSpark/user/s400-e7dcb82d1d5e0a-e5f95035749e/.local/lib/python2.7/site-packages (from tweepy)\nRequirement already satisfied: requests>=2.4.3 in /usr/local/src/bluemix_jupyter_bundle.v77/notebook/lib/python2.7/site-packages (from tweepy)\nRequirement already satisfied: requests-oauthlib>=0.4.1 in /gpfs/global_fs01/sym_shared/YPProdSpark/user/s400-e7dcb82d1d5e0a-e5f95035749e/.local/lib/python2.7/site-packages (from tweepy)\nRequirement already satisfied: urllib3<1.23,>=1.21.1 in /usr/local/src/bluemix_jupyter_bundle.v77/notebook/lib/python2.7/site-packages (from requests>=2.4.3->tweepy)\nRequirement already satisfied: idna<2.7,>=2.5 in /usr/local/src/bluemix_jupyter_bundle.v77/notebook/lib/python2.7/site-packages (from requests>=2.4.3->tweepy)\nRequirement already satisfied: chardet<3.1.0,>=3.0.2 in /usr/local/src/bluemix_jupyter_bundle.v77/notebook/lib/python2.7/site-packages (from requests>=2.4.3->tweepy)\nRequirement already satisfied: certifi>=2017.4.17 in /usr/local/src/bluemix_jupyter_bundle.v77/notebook/lib/python2.7/site-packages (from requests>=2.4.3->tweepy)\nRequirement already satisfied: oauthlib>=0.6.2 in /gpfs/global_fs01/sym_shared/YPProdSpark/user/s400-e7dcb82d1d5e0a-e5f95035749e/.local/lib/python2.7/site-packages (from requests-oauthlib>=0.4.1->tweepy)\n"
                }
            ]
        }, 
        {
            "source": "import logging\nimport time\nimport csv\nimport json\nimport tweepy\nfrom tweepy import OAuthHandler\nfrom tweepy import Stream\nfrom tweepy.streaming import StreamListener\nfrom datetime import datetime\nfrom dateutil import parser", 
            "metadata": {}, 
            "execution_count": 2, 
            "cell_type": "code", 
            "outputs": []
        }, 
        {
            "metadata": {}, 
            "source": "# Robo\nDefine o comportamento do Robo", 
            "cell_type": "markdown"
        }, 
        {
            "source": "## SUPER CLASSE: CLASSE M\u00c3E\nclass Point(object):\n    \n    def __init__(self, x, y):\n        self.x = x\n        self.y = y\n    def __str__(self):\n        return '<%s, %s>' % (self.x, self.y)\n\n## HERDA DA M\u00c3E (Point)\nclass Reward(Point):\n    \n    def __init__(self, x, y, name):\n            #super recebe a classe, a instancia, e retorna os metodos da m\u00e3e\n            super(Reward, self).__init__(x, y)\n            self.name = name\n            \n    def __str__(self):\n        return '<%s, %s>: %s' % (self.x, self.y, self.name)\n    \n    def __repr__(self):\n        return 'Rewards %s' % str(self)\n    \nclass Robot(Point):\n    \n    def move_up(self):\n        if self.y < 10:\n            self.y = self.y + 1\n        else:\n            print(\"movimento proibido\")\n            api.update_status('movimento UP proibido!')\n            \n    def move_down(self):\n        if self.y > 0:\n            self.y = self.y - 1\n        else:\n            print(\"movimento proibido\")\n            api.update_status('movimento DOWN proibido!')\n            \n    def move_left(self):\n        if self.x > 0:\n            self.x = self.x - 1 \n        else:\n            print(\"movimento proibido\")\n            api.update_status('movimento LEFT proibido!')\n            \n    def move_right(self):\n        if self.x < 10:\n            self.x = self.x + 1\n        else:\n            print(\"movimento proibido\")\n            api.update_status('movimento RIGHT proibido!')", 
            "metadata": {}, 
            "execution_count": 3, 
            "cell_type": "code", 
            "outputs": []
        }, 
        {
            "source": "def check_reward(robot, reward, username):\n    ok=False\n    for reward in rewards:\n        if reward.x == robot.x and reward.y == robot.y:\n            print(\"Parabens ooo  %s\" % username)\n            print(\"o robo acho a ooo %s\" % reward.name)\n            \n            api.update_status(\"Parabens oo ! %s\" % username)\n            api.update_status(\"o robo acho a oo %s\" % reward.name)\n            ok=True\n    return ok", 
            "metadata": {}, 
            "execution_count": 21, 
            "cell_type": "code", 
            "outputs": []
        }, 
        {
            "source": "import random", 
            "metadata": {}, 
            "execution_count": 5, 
            "cell_type": "code", 
            "outputs": []
        }, 
        {
            "source": "#Insere 12 presentes.\nr1 = Reward(random.randint(0,10),random.randint(0,10), 'moeda' )\nr2 = Reward(random.randint(0,10),random.randint(0,10), 'gasolina' )\nr3 = Reward(random.randint(0,10),random.randint(0,10), 'arma' )\nr4 = Reward(random.randint(0,10),random.randint(0,10), 'moeda' )\nr5 = Reward(random.randint(0,10),random.randint(0,10), 'gasolina' )\nr6 = Reward(random.randint(0,10),random.randint(0,10), 'arma' )\nr7 = Reward(random.randint(0,10),random.randint(0,10), 'moeda' )\nr8 = Reward(random.randint(0,10),random.randint(0,10), 'gasolina' )\nr9 = Reward(random.randint(0,10),random.randint(0,10), 'arma' )\nr10 = Reward(random.randint(0,10),random.randint(0,10), 'moeda' )\nr11 = Reward(random.randint(0,10),random.randint(0,10), 'gasolina' )\nr12 = Reward(random.randint(0,10),random.randint(0,10), 'arma' )\n", 
            "metadata": {}, 
            "execution_count": 6, 
            "cell_type": "code", 
            "outputs": []
        }, 
        {
            "source": "rewards  = [r1, r2, r3, r4, r5, r6, r7, r8, r9, r10, r11, r12]", 
            "metadata": {}, 
            "execution_count": 7, 
            "cell_type": "code", 
            "outputs": []
        }, 
        {
            "source": "rewards", 
            "metadata": {}, 
            "execution_count": 8, 
            "cell_type": "code", 
            "outputs": [
                {
                    "data": {
                        "text/plain": "[Rewards <0, 2>: moeda,\n Rewards <7, 8>: gasolina,\n Rewards <10, 8>: arma,\n Rewards <1, 0>: moeda,\n Rewards <8, 6>: gasolina,\n Rewards <6, 1>: arma,\n Rewards <1, 2>: moeda,\n Rewards <0, 4>: gasolina,\n Rewards <9, 5>: arma,\n Rewards <0, 4>: moeda,\n Rewards <2, 0>: gasolina,\n Rewards <1, 7>: arma]"
                    }, 
                    "metadata": {}, 
                    "execution_count": 8, 
                    "output_type": "execute_result"
                }
            ]
        }, 
        {
            "source": "#Coloca o robo em uma matriz 10x10\nrobot = Robot(random.randint(0,10),random.randint(0,10))", 
            "metadata": {}, 
            "execution_count": 9, 
            "cell_type": "code", 
            "outputs": []
        }, 
        {
            "source": "print(robot)", 
            "metadata": {}, 
            "execution_count": 10, 
            "cell_type": "code", 
            "outputs": [
                {
                    "name": "stdout", 
                    "output_type": "stream", 
                    "text": "<0, 1>\n"
                }
            ]
        }, 
        {
            "metadata": {}, 
            "source": "# Twitter", 
            "cell_type": "markdown"
        }, 
        {
            "source": "# enable logging\nlogging.basicConfig(level=logging.INFO, \n                    format='%(asctime)s %(levelname)s %(module)s - %(funcName)s: %(message)s', \n                    datefmt=\"%Y-%m-%d %H:%M:%S\")\nlogger = logging.getLogger()\nlogger.setLevel(logging.INFO)", 
            "metadata": {}, 
            "execution_count": 11, 
            "cell_type": "code", 
            "outputs": []
        }, 
        {
            "source": "# authorize the app to access Twitter on our behalf\n# Go to http://apps.twitter.com and create an app.\n# The consumer key and secret will be generated for you after\n\nconsumer_key=\"XXXXXXXXXXXXXXXXXXXXXXXXX\"\nconsumer_secret=\"XXXXXXXXXXXXXXXXXXXXXXXX\"\naccess_token=\"XXXXXXXXXXXXXXXXXXX\" \naccess_secret=\"XXXXXXXXXXXXXXXXXXXX\"", 
            "metadata": {}, 
            "execution_count": 12, 
            "cell_type": "code", 
            "outputs": []
        }, 
        {
            "source": "auth = OAuthHandler(consumer_key, consumer_secret)\nauth.set_access_token(access_token, access_secret)\napi = tweepy.API(auth)", 
            "metadata": {}, 
            "execution_count": 14, 
            "cell_type": "code", 
            "outputs": []
        }, 
        {
            "source": "# parse data\ndef parse_tweet(data):\n\n    # load JSON item into a dict\n    tweet = json.loads(data)\n\n\n    # check if tweet is valid\n    if 'user' in tweet.keys():\n\n        # parse date    \n        tweet['CREATED_AT'] = parser.parse(tweet['created_at'])\n\n        # classify tweet type based on metadata\n        if 'retweeted_status' in tweet:\n            tweet['TWEET_TYPE'] = 'retweet'\n\n        elif len(tweet['entities']['user_mentions']) > 0:\n            tweet['TWEET_TYPE'] = 'mention'\n\n        else:\n            tweet['TWEET_TYPE'] = 'tweet'\n\n        return tweet\n\n    else:\n        logger.warning(\"Imcomplete tweet: %s\", tweet)\n\n\n# extract relevant data to write to CSV\ndef extract_content(tweet):\n\n    content = [tweet['user']['screen_name'], \n               tweet['CREATED_AT'].strftime('%Y-%m-%d %H:%M:%S'),\n               tweet['TWEET_TYPE'],\n               tweet['user']['location'],\n               tweet['text'].encode('unicode_escape')]\n    \n# verifica o ROBO\n    print(tweet['text'])\n    s = tweet['text'].encode('unicode_escape')\n    \n    go_right = len(s.split('right'))-1\n    go_left = len(s.split('left'))-1\n    go_up = len(s.split('up'))-1\n    go_down = len(s.split('down'))-1\n    \n    if go_right > 0:\n        robot.move_right()\n    elif go_left > 0:\n        robot.move_left()\n    elif go_up > 0:\n        robot.move_up()\n    elif go_down > 0:\n        robot.move_down()\n    else:\n        print('Movimento inv\u00e1lido')\n        api.update_status('Movimento inv\u00e1lido!')\n    \n    username = '@'+content[0]\n    #username ='@PauloCKlein'\n    #print(username)\n    \n    print(robot)\n    api.update_status(robot)\n    check_reward(robot,rewards, username)\n    \n    return content", 
            "metadata": {}, 
            "execution_count": 15, 
            "cell_type": "code", 
            "outputs": []
        }, 
        {
            "source": "class MyListener(StreamListener):\n\n    def on_data(self, data):\n        try:\n            tweet = parse_tweet(data)\n            content = extract_content(tweet)\n            with open('tweets.csv', 'a') as f: \n                writer = csv.writer(f, quotechar = '\"')\n                writer.writerow(content)\n                logger.info(content[3])\n\n        except BaseException as e:\n            logger.warning(e)\n\n        return True\n\n    def on_error(self, status):\n        logger.warning(status)\n        return True", 
            "metadata": {}, 
            "execution_count": 16, 
            "cell_type": "code", 
            "outputs": []
        }, 
        {
            "source": "def start_stream():\n\n    while True:\n\n        logger.warning(\"Twitter API Connection opened\")\n\n        try:\n            twitter_stream = Stream(auth, MyListener())\n            twitter_stream.filter(track=['tianoklein'])\n\n        except Exception as e: \n            logger.warning(e)\n            continue\n\n        finally:\n            logger.warning(\"Twitter API Connection closed\")", 
            "metadata": {}, 
            "execution_count": 22, 
            "cell_type": "code", 
            "outputs": []
        }, 
        {
            "source": "if __name__ == '__main__':\n    start_stream()", 
            "metadata": {
                "scrolled": false
            }, 
            "execution_count": 23, 
            "cell_type": "code", 
            "outputs": [
                {
                    "name": "stderr", 
                    "output_type": "stream", 
                    "text": "2018-01-26 09:59:56 WARNING <ipython-input-22-7b7030ccec9b> - start_stream: Twitter API Connection opened\n2018-01-26 10:00:11 INFO binder - build_parameters: PARAMS: {'status': '<0, 1>'}\n"
                }, 
                {
                    "name": "stdout", 
                    "output_type": "stream", 
                    "text": "tianoklein down 4\n<0, 1>\n"
                }, 
                {
                    "name": "stderr", 
                    "output_type": "stream", 
                    "text": "2018-01-26 10:00:11 INFO <ipython-input-16-902da51debd0> - on_data: Porto Alegre\n2018-01-26 10:00:31 INFO binder - build_parameters: PARAMS: {'status': '<0, 2>'}\n2018-01-26 10:00:31 WARNING <ipython-input-16-902da51debd0> - on_data: [{u'message': u'Status is a duplicate.', u'code': 187}]\n"
                }, 
                {
                    "name": "stdout", 
                    "output_type": "stream", 
                    "text": "tianoklein up 4\n<0, 2>\n"
                }, 
                {
                    "name": "stderr", 
                    "output_type": "stream", 
                    "text": "2018-01-26 10:01:45 WARNING <ipython-input-22-7b7030ccec9b> - start_stream: Twitter API Connection closed\n"
                }, 
                {
                    "ename": "KeyboardInterrupt", 
                    "output_type": "error", 
                    "evalue": "", 
                    "traceback": [
                        "\u001b[0;31m\u001b[0m", 
                        "\u001b[0;31mKeyboardInterrupt\u001b[0mTraceback (most recent call last)", 
                        "\u001b[0;32m<ipython-input-23-86de92dbe33b>\u001b[0m in \u001b[0;36m<module>\u001b[0;34m()\u001b[0m\n\u001b[1;32m      1\u001b[0m \u001b[0;32mif\u001b[0m \u001b[0m__name__\u001b[0m \u001b[0;34m==\u001b[0m \u001b[0;34m'__main__'\u001b[0m\u001b[0;34m:\u001b[0m\u001b[0;34m\u001b[0m\u001b[0m\n\u001b[0;32m----> 2\u001b[0;31m     \u001b[0mstart_stream\u001b[0m\u001b[0;34m(\u001b[0m\u001b[0;34m)\u001b[0m\u001b[0;34m\u001b[0m\u001b[0m\n\u001b[0m", 
                        "\u001b[0;32m<ipython-input-22-7b7030ccec9b>\u001b[0m in \u001b[0;36mstart_stream\u001b[0;34m()\u001b[0m\n\u001b[1;32m      7\u001b[0m         \u001b[0;32mtry\u001b[0m\u001b[0;34m:\u001b[0m\u001b[0;34m\u001b[0m\u001b[0m\n\u001b[1;32m      8\u001b[0m             \u001b[0mtwitter_stream\u001b[0m \u001b[0;34m=\u001b[0m \u001b[0mStream\u001b[0m\u001b[0;34m(\u001b[0m\u001b[0mauth\u001b[0m\u001b[0;34m,\u001b[0m \u001b[0mMyListener\u001b[0m\u001b[0;34m(\u001b[0m\u001b[0;34m)\u001b[0m\u001b[0;34m)\u001b[0m\u001b[0;34m\u001b[0m\u001b[0m\n\u001b[0;32m----> 9\u001b[0;31m             \u001b[0mtwitter_stream\u001b[0m\u001b[0;34m.\u001b[0m\u001b[0mfilter\u001b[0m\u001b[0;34m(\u001b[0m\u001b[0mtrack\u001b[0m\u001b[0;34m=\u001b[0m\u001b[0;34m[\u001b[0m\u001b[0;34m'tianoklein'\u001b[0m\u001b[0;34m]\u001b[0m\u001b[0;34m)\u001b[0m\u001b[0;34m\u001b[0m\u001b[0m\n\u001b[0m\u001b[1;32m     10\u001b[0m \u001b[0;34m\u001b[0m\u001b[0m\n\u001b[1;32m     11\u001b[0m         \u001b[0;32mexcept\u001b[0m \u001b[0mException\u001b[0m \u001b[0;32mas\u001b[0m \u001b[0me\u001b[0m\u001b[0;34m:\u001b[0m\u001b[0;34m\u001b[0m\u001b[0m\n", 
                        "\u001b[0;32m/gpfs/fs01/user/s400-e7dcb82d1d5e0a-e5f95035749e/.local/lib/python2.7/site-packages/tweepy/streaming.pyc\u001b[0m in \u001b[0;36mfilter\u001b[0;34m(self, follow, track, async, locations, stall_warnings, languages, encoding, filter_level)\u001b[0m\n\u001b[1;32m    443\u001b[0m         \u001b[0mself\u001b[0m\u001b[0;34m.\u001b[0m\u001b[0msession\u001b[0m\u001b[0;34m.\u001b[0m\u001b[0mparams\u001b[0m \u001b[0;34m=\u001b[0m \u001b[0;34m{\u001b[0m\u001b[0;34m'delimited'\u001b[0m\u001b[0;34m:\u001b[0m \u001b[0;34m'length'\u001b[0m\u001b[0;34m}\u001b[0m\u001b[0;34m\u001b[0m\u001b[0m\n\u001b[1;32m    444\u001b[0m         \u001b[0mself\u001b[0m\u001b[0;34m.\u001b[0m\u001b[0mhost\u001b[0m \u001b[0;34m=\u001b[0m \u001b[0;34m'stream.twitter.com'\u001b[0m\u001b[0;34m\u001b[0m\u001b[0m\n\u001b[0;32m--> 445\u001b[0;31m         \u001b[0mself\u001b[0m\u001b[0;34m.\u001b[0m\u001b[0m_start\u001b[0m\u001b[0;34m(\u001b[0m\u001b[0masync\u001b[0m\u001b[0;34m)\u001b[0m\u001b[0;34m\u001b[0m\u001b[0m\n\u001b[0m\u001b[1;32m    446\u001b[0m \u001b[0;34m\u001b[0m\u001b[0m\n\u001b[1;32m    447\u001b[0m     def sitestream(self, follow, stall_warnings=False,\n", 
                        "\u001b[0;32m/gpfs/fs01/user/s400-e7dcb82d1d5e0a-e5f95035749e/.local/lib/python2.7/site-packages/tweepy/streaming.pyc\u001b[0m in \u001b[0;36m_start\u001b[0;34m(self, async)\u001b[0m\n\u001b[1;32m    359\u001b[0m             \u001b[0mself\u001b[0m\u001b[0;34m.\u001b[0m\u001b[0m_thread\u001b[0m\u001b[0;34m.\u001b[0m\u001b[0mstart\u001b[0m\u001b[0;34m(\u001b[0m\u001b[0;34m)\u001b[0m\u001b[0;34m\u001b[0m\u001b[0m\n\u001b[1;32m    360\u001b[0m         \u001b[0;32melse\u001b[0m\u001b[0;34m:\u001b[0m\u001b[0;34m\u001b[0m\u001b[0m\n\u001b[0;32m--> 361\u001b[0;31m             \u001b[0mself\u001b[0m\u001b[0;34m.\u001b[0m\u001b[0m_run\u001b[0m\u001b[0;34m(\u001b[0m\u001b[0;34m)\u001b[0m\u001b[0;34m\u001b[0m\u001b[0m\n\u001b[0m\u001b[1;32m    362\u001b[0m \u001b[0;34m\u001b[0m\u001b[0m\n\u001b[1;32m    363\u001b[0m     \u001b[0;32mdef\u001b[0m \u001b[0mon_closed\u001b[0m\u001b[0;34m(\u001b[0m\u001b[0mself\u001b[0m\u001b[0;34m,\u001b[0m \u001b[0mresp\u001b[0m\u001b[0;34m)\u001b[0m\u001b[0;34m:\u001b[0m\u001b[0;34m\u001b[0m\u001b[0m\n", 
                        "\u001b[0;32m/gpfs/fs01/user/s400-e7dcb82d1d5e0a-e5f95035749e/.local/lib/python2.7/site-packages/tweepy/streaming.pyc\u001b[0m in \u001b[0;36m_run\u001b[0;34m(self)\u001b[0m\n\u001b[1;32m    261\u001b[0m                     \u001b[0mself\u001b[0m\u001b[0;34m.\u001b[0m\u001b[0msnooze_time\u001b[0m \u001b[0;34m=\u001b[0m \u001b[0mself\u001b[0m\u001b[0;34m.\u001b[0m\u001b[0msnooze_time_step\u001b[0m\u001b[0;34m\u001b[0m\u001b[0m\n\u001b[1;32m    262\u001b[0m                     \u001b[0mself\u001b[0m\u001b[0;34m.\u001b[0m\u001b[0mlistener\u001b[0m\u001b[0;34m.\u001b[0m\u001b[0mon_connect\u001b[0m\u001b[0;34m(\u001b[0m\u001b[0;34m)\u001b[0m\u001b[0;34m\u001b[0m\u001b[0m\n\u001b[0;32m--> 263\u001b[0;31m                     \u001b[0mself\u001b[0m\u001b[0;34m.\u001b[0m\u001b[0m_read_loop\u001b[0m\u001b[0;34m(\u001b[0m\u001b[0mresp\u001b[0m\u001b[0;34m)\u001b[0m\u001b[0;34m\u001b[0m\u001b[0m\n\u001b[0m\u001b[1;32m    264\u001b[0m             \u001b[0;32mexcept\u001b[0m \u001b[0;34m(\u001b[0m\u001b[0mTimeout\u001b[0m\u001b[0;34m,\u001b[0m \u001b[0mssl\u001b[0m\u001b[0;34m.\u001b[0m\u001b[0mSSLError\u001b[0m\u001b[0;34m)\u001b[0m \u001b[0;32mas\u001b[0m \u001b[0mexc\u001b[0m\u001b[0;34m:\u001b[0m\u001b[0;34m\u001b[0m\u001b[0m\n\u001b[1;32m    265\u001b[0m                 \u001b[0;31m# This is still necessary, as a SSLError can actually be\u001b[0m\u001b[0;34m\u001b[0m\u001b[0;34m\u001b[0m\u001b[0m\n", 
                        "\u001b[0;32m/gpfs/fs01/user/s400-e7dcb82d1d5e0a-e5f95035749e/.local/lib/python2.7/site-packages/tweepy/streaming.pyc\u001b[0m in \u001b[0;36m_read_loop\u001b[0;34m(self, resp)\u001b[0m\n\u001b[1;32m    311\u001b[0m             \u001b[0mlength\u001b[0m \u001b[0;34m=\u001b[0m \u001b[0;36m0\u001b[0m\u001b[0;34m\u001b[0m\u001b[0m\n\u001b[1;32m    312\u001b[0m             \u001b[0;32mwhile\u001b[0m \u001b[0;32mnot\u001b[0m \u001b[0mresp\u001b[0m\u001b[0;34m.\u001b[0m\u001b[0mraw\u001b[0m\u001b[0;34m.\u001b[0m\u001b[0mclosed\u001b[0m\u001b[0;34m:\u001b[0m\u001b[0;34m\u001b[0m\u001b[0m\n\u001b[0;32m--> 313\u001b[0;31m                 \u001b[0mline\u001b[0m \u001b[0;34m=\u001b[0m \u001b[0mbuf\u001b[0m\u001b[0;34m.\u001b[0m\u001b[0mread_line\u001b[0m\u001b[0;34m(\u001b[0m\u001b[0;34m)\u001b[0m\u001b[0;34m.\u001b[0m\u001b[0mstrip\u001b[0m\u001b[0;34m(\u001b[0m\u001b[0;34m)\u001b[0m\u001b[0;34m\u001b[0m\u001b[0m\n\u001b[0m\u001b[1;32m    314\u001b[0m                 \u001b[0;32mif\u001b[0m \u001b[0;32mnot\u001b[0m \u001b[0mline\u001b[0m\u001b[0;34m:\u001b[0m\u001b[0;34m\u001b[0m\u001b[0m\n\u001b[1;32m    315\u001b[0m                     \u001b[0mself\u001b[0m\u001b[0;34m.\u001b[0m\u001b[0mlistener\u001b[0m\u001b[0;34m.\u001b[0m\u001b[0mkeep_alive\u001b[0m\u001b[0;34m(\u001b[0m\u001b[0;34m)\u001b[0m  \u001b[0;31m# keep-alive new lines are expected\u001b[0m\u001b[0;34m\u001b[0m\u001b[0m\n", 
                        "\u001b[0;32m/gpfs/fs01/user/s400-e7dcb82d1d5e0a-e5f95035749e/.local/lib/python2.7/site-packages/tweepy/streaming.pyc\u001b[0m in \u001b[0;36mread_line\u001b[0;34m(self, sep)\u001b[0m\n\u001b[1;32m    177\u001b[0m             \u001b[0;32melse\u001b[0m\u001b[0;34m:\u001b[0m\u001b[0;34m\u001b[0m\u001b[0m\n\u001b[1;32m    178\u001b[0m                 \u001b[0mstart\u001b[0m \u001b[0;34m=\u001b[0m \u001b[0mlen\u001b[0m\u001b[0;34m(\u001b[0m\u001b[0mself\u001b[0m\u001b[0;34m.\u001b[0m\u001b[0m_buffer\u001b[0m\u001b[0;34m)\u001b[0m\u001b[0;34m\u001b[0m\u001b[0m\n\u001b[0;32m--> 179\u001b[0;31m             \u001b[0mself\u001b[0m\u001b[0;34m.\u001b[0m\u001b[0m_buffer\u001b[0m \u001b[0;34m+=\u001b[0m \u001b[0mself\u001b[0m\u001b[0;34m.\u001b[0m\u001b[0m_stream\u001b[0m\u001b[0;34m.\u001b[0m\u001b[0mread\u001b[0m\u001b[0;34m(\u001b[0m\u001b[0mself\u001b[0m\u001b[0;34m.\u001b[0m\u001b[0m_chunk_size\u001b[0m\u001b[0;34m)\u001b[0m\u001b[0;34m\u001b[0m\u001b[0m\n\u001b[0m\u001b[1;32m    180\u001b[0m \u001b[0;34m\u001b[0m\u001b[0m\n\u001b[1;32m    181\u001b[0m     \u001b[0;32mdef\u001b[0m \u001b[0m_pop\u001b[0m\u001b[0;34m(\u001b[0m\u001b[0mself\u001b[0m\u001b[0;34m,\u001b[0m \u001b[0mlength\u001b[0m\u001b[0;34m)\u001b[0m\u001b[0;34m:\u001b[0m\u001b[0;34m\u001b[0m\u001b[0m\n", 
                        "\u001b[0;32m/usr/local/src/bluemix_jupyter_bundle.v77/notebook/lib/python2.7/site-packages/urllib3/response.pyc\u001b[0m in \u001b[0;36mread\u001b[0;34m(self, amt, decode_content, cache_content)\u001b[0m\n\u001b[1;32m    382\u001b[0m             \u001b[0;32melse\u001b[0m\u001b[0;34m:\u001b[0m\u001b[0;34m\u001b[0m\u001b[0m\n\u001b[1;32m    383\u001b[0m                 \u001b[0mcache_content\u001b[0m \u001b[0;34m=\u001b[0m \u001b[0mFalse\u001b[0m\u001b[0;34m\u001b[0m\u001b[0m\n\u001b[0;32m--> 384\u001b[0;31m                 \u001b[0mdata\u001b[0m \u001b[0;34m=\u001b[0m \u001b[0mself\u001b[0m\u001b[0;34m.\u001b[0m\u001b[0m_fp\u001b[0m\u001b[0;34m.\u001b[0m\u001b[0mread\u001b[0m\u001b[0;34m(\u001b[0m\u001b[0mamt\u001b[0m\u001b[0;34m)\u001b[0m\u001b[0;34m\u001b[0m\u001b[0m\n\u001b[0m\u001b[1;32m    385\u001b[0m                 \u001b[0;32mif\u001b[0m \u001b[0mamt\u001b[0m \u001b[0;34m!=\u001b[0m \u001b[0;36m0\u001b[0m \u001b[0;32mand\u001b[0m \u001b[0;32mnot\u001b[0m \u001b[0mdata\u001b[0m\u001b[0;34m:\u001b[0m  \u001b[0;31m# Platform-specific: Buggy versions of Python.\u001b[0m\u001b[0;34m\u001b[0m\u001b[0m\n\u001b[1;32m    386\u001b[0m                     \u001b[0;31m# Close the connection when no data is returned\u001b[0m\u001b[0;34m\u001b[0m\u001b[0;34m\u001b[0m\u001b[0m\n", 
                        "\u001b[0;32m/usr/local/src/bluemix_jupyter_bundle.v77/notebook/lib/python2.7/httplib.pyc\u001b[0m in \u001b[0;36mread\u001b[0;34m(self, amt)\u001b[0m\n\u001b[1;32m    586\u001b[0m \u001b[0;34m\u001b[0m\u001b[0m\n\u001b[1;32m    587\u001b[0m         \u001b[0;32mif\u001b[0m \u001b[0mself\u001b[0m\u001b[0;34m.\u001b[0m\u001b[0mchunked\u001b[0m\u001b[0;34m:\u001b[0m\u001b[0;34m\u001b[0m\u001b[0m\n\u001b[0;32m--> 588\u001b[0;31m             \u001b[0;32mreturn\u001b[0m \u001b[0mself\u001b[0m\u001b[0;34m.\u001b[0m\u001b[0m_read_chunked\u001b[0m\u001b[0;34m(\u001b[0m\u001b[0mamt\u001b[0m\u001b[0;34m)\u001b[0m\u001b[0;34m\u001b[0m\u001b[0m\n\u001b[0m\u001b[1;32m    589\u001b[0m \u001b[0;34m\u001b[0m\u001b[0m\n\u001b[1;32m    590\u001b[0m         \u001b[0;32mif\u001b[0m \u001b[0mamt\u001b[0m \u001b[0;32mis\u001b[0m \u001b[0mNone\u001b[0m\u001b[0;34m:\u001b[0m\u001b[0;34m\u001b[0m\u001b[0m\n", 
                        "\u001b[0;32m/usr/local/src/bluemix_jupyter_bundle.v77/notebook/lib/python2.7/httplib.pyc\u001b[0m in \u001b[0;36m_read_chunked\u001b[0;34m(self, amt)\u001b[0m\n\u001b[1;32m    628\u001b[0m         \u001b[0;32mwhile\u001b[0m \u001b[0mTrue\u001b[0m\u001b[0;34m:\u001b[0m\u001b[0;34m\u001b[0m\u001b[0m\n\u001b[1;32m    629\u001b[0m             \u001b[0;32mif\u001b[0m \u001b[0mchunk_left\u001b[0m \u001b[0;32mis\u001b[0m \u001b[0mNone\u001b[0m\u001b[0;34m:\u001b[0m\u001b[0;34m\u001b[0m\u001b[0m\n\u001b[0;32m--> 630\u001b[0;31m                 \u001b[0mline\u001b[0m \u001b[0;34m=\u001b[0m \u001b[0mself\u001b[0m\u001b[0;34m.\u001b[0m\u001b[0mfp\u001b[0m\u001b[0;34m.\u001b[0m\u001b[0mreadline\u001b[0m\u001b[0;34m(\u001b[0m\u001b[0m_MAXLINE\u001b[0m \u001b[0;34m+\u001b[0m \u001b[0;36m1\u001b[0m\u001b[0;34m)\u001b[0m\u001b[0;34m\u001b[0m\u001b[0m\n\u001b[0m\u001b[1;32m    631\u001b[0m                 \u001b[0;32mif\u001b[0m \u001b[0mlen\u001b[0m\u001b[0;34m(\u001b[0m\u001b[0mline\u001b[0m\u001b[0;34m)\u001b[0m \u001b[0;34m>\u001b[0m \u001b[0m_MAXLINE\u001b[0m\u001b[0;34m:\u001b[0m\u001b[0;34m\u001b[0m\u001b[0m\n\u001b[1;32m    632\u001b[0m                     \u001b[0;32mraise\u001b[0m \u001b[0mLineTooLong\u001b[0m\u001b[0;34m(\u001b[0m\u001b[0;34m\"chunk size\"\u001b[0m\u001b[0;34m)\u001b[0m\u001b[0;34m\u001b[0m\u001b[0m\n", 
                        "\u001b[0;32m/usr/local/src/bluemix_jupyter_bundle.v77/notebook/lib/python2.7/socket.pyc\u001b[0m in \u001b[0;36mreadline\u001b[0;34m(self, size)\u001b[0m\n\u001b[1;32m    478\u001b[0m             \u001b[0;32mwhile\u001b[0m \u001b[0mTrue\u001b[0m\u001b[0;34m:\u001b[0m\u001b[0;34m\u001b[0m\u001b[0m\n\u001b[1;32m    479\u001b[0m                 \u001b[0;32mtry\u001b[0m\u001b[0;34m:\u001b[0m\u001b[0;34m\u001b[0m\u001b[0m\n\u001b[0;32m--> 480\u001b[0;31m                     \u001b[0mdata\u001b[0m \u001b[0;34m=\u001b[0m \u001b[0mself\u001b[0m\u001b[0;34m.\u001b[0m\u001b[0m_sock\u001b[0m\u001b[0;34m.\u001b[0m\u001b[0mrecv\u001b[0m\u001b[0;34m(\u001b[0m\u001b[0mself\u001b[0m\u001b[0;34m.\u001b[0m\u001b[0m_rbufsize\u001b[0m\u001b[0;34m)\u001b[0m\u001b[0;34m\u001b[0m\u001b[0m\n\u001b[0m\u001b[1;32m    481\u001b[0m                 \u001b[0;32mexcept\u001b[0m \u001b[0merror\u001b[0m\u001b[0;34m,\u001b[0m \u001b[0me\u001b[0m\u001b[0;34m:\u001b[0m\u001b[0;34m\u001b[0m\u001b[0m\n\u001b[1;32m    482\u001b[0m                     \u001b[0;32mif\u001b[0m \u001b[0me\u001b[0m\u001b[0;34m.\u001b[0m\u001b[0margs\u001b[0m\u001b[0;34m[\u001b[0m\u001b[0;36m0\u001b[0m\u001b[0;34m]\u001b[0m \u001b[0;34m==\u001b[0m \u001b[0mEINTR\u001b[0m\u001b[0;34m:\u001b[0m\u001b[0;34m\u001b[0m\u001b[0m\n", 
                        "\u001b[0;32m/usr/local/src/bluemix_jupyter_bundle.v77/notebook/lib/python2.7/ssl.pyc\u001b[0m in \u001b[0;36mrecv\u001b[0;34m(self, buflen, flags)\u001b[0m\n\u001b[1;32m    732\u001b[0m                     \u001b[0;34m\"non-zero flags not allowed in calls to recv() on %s\"\u001b[0m \u001b[0;34m%\u001b[0m\u001b[0;34m\u001b[0m\u001b[0m\n\u001b[1;32m    733\u001b[0m                     self.__class__)\n\u001b[0;32m--> 734\u001b[0;31m             \u001b[0;32mreturn\u001b[0m \u001b[0mself\u001b[0m\u001b[0;34m.\u001b[0m\u001b[0mread\u001b[0m\u001b[0;34m(\u001b[0m\u001b[0mbuflen\u001b[0m\u001b[0;34m)\u001b[0m\u001b[0;34m\u001b[0m\u001b[0m\n\u001b[0m\u001b[1;32m    735\u001b[0m         \u001b[0;32melse\u001b[0m\u001b[0;34m:\u001b[0m\u001b[0;34m\u001b[0m\u001b[0m\n\u001b[1;32m    736\u001b[0m             \u001b[0;32mreturn\u001b[0m \u001b[0mself\u001b[0m\u001b[0;34m.\u001b[0m\u001b[0m_sock\u001b[0m\u001b[0;34m.\u001b[0m\u001b[0mrecv\u001b[0m\u001b[0;34m(\u001b[0m\u001b[0mbuflen\u001b[0m\u001b[0;34m,\u001b[0m \u001b[0mflags\u001b[0m\u001b[0;34m)\u001b[0m\u001b[0;34m\u001b[0m\u001b[0m\n", 
                        "\u001b[0;32m/usr/local/src/bluemix_jupyter_bundle.v77/notebook/lib/python2.7/ssl.pyc\u001b[0m in \u001b[0;36mread\u001b[0;34m(self, len, buffer)\u001b[0m\n\u001b[1;32m    619\u001b[0m                 \u001b[0mv\u001b[0m \u001b[0;34m=\u001b[0m \u001b[0mself\u001b[0m\u001b[0;34m.\u001b[0m\u001b[0m_sslobj\u001b[0m\u001b[0;34m.\u001b[0m\u001b[0mread\u001b[0m\u001b[0;34m(\u001b[0m\u001b[0mlen\u001b[0m\u001b[0;34m,\u001b[0m \u001b[0mbuffer\u001b[0m\u001b[0;34m)\u001b[0m\u001b[0;34m\u001b[0m\u001b[0m\n\u001b[1;32m    620\u001b[0m             \u001b[0;32melse\u001b[0m\u001b[0;34m:\u001b[0m\u001b[0;34m\u001b[0m\u001b[0m\n\u001b[0;32m--> 621\u001b[0;31m                 \u001b[0mv\u001b[0m \u001b[0;34m=\u001b[0m \u001b[0mself\u001b[0m\u001b[0;34m.\u001b[0m\u001b[0m_sslobj\u001b[0m\u001b[0;34m.\u001b[0m\u001b[0mread\u001b[0m\u001b[0;34m(\u001b[0m\u001b[0mlen\u001b[0m \u001b[0;32mor\u001b[0m \u001b[0;36m1024\u001b[0m\u001b[0;34m)\u001b[0m\u001b[0;34m\u001b[0m\u001b[0m\n\u001b[0m\u001b[1;32m    622\u001b[0m             \u001b[0;32mreturn\u001b[0m \u001b[0mv\u001b[0m\u001b[0;34m\u001b[0m\u001b[0m\n\u001b[1;32m    623\u001b[0m         \u001b[0;32mexcept\u001b[0m \u001b[0mSSLError\u001b[0m \u001b[0;32mas\u001b[0m \u001b[0mx\u001b[0m\u001b[0;34m:\u001b[0m\u001b[0;34m\u001b[0m\u001b[0m\n", 
                        "\u001b[0;31mKeyboardInterrupt\u001b[0m: "
                    ]
                }
            ]
        }, 
        {
            "metadata": {}, 
            "source": "## Abrir csv gerado com todos os tweets", 
            "cell_type": "markdown"
        }, 
        {
            "source": "import os\ncwd = os.getcwd()\nprint cwd\nfiles = os.listdir(cwd) \nprint files", 
            "metadata": {}, 
            "execution_count": null, 
            "cell_type": "code", 
            "outputs": []
        }, 
        {
            "source": "#os.remove(\"tweets.csv\")\n#print(\"File Removed!\")", 
            "metadata": {}, 
            "execution_count": null, 
            "cell_type": "code", 
            "outputs": []
        }, 
        {
            "source": "with open('tweets.csv') as csvfile:\n    readCSV = csv.reader(csvfile, delimiter=',')\n    for row in readCSV:\n        print(row)", 
            "metadata": {}, 
            "execution_count": 24, 
            "cell_type": "code", 
            "outputs": [
                {
                    "name": "stdout", 
                    "output_type": "stream", 
                    "text": "['tianoklein', '2018-01-26 14:39:57', 'tweet', 'Porto Alegre', 'tianoklein up 1']\n['tianoklein', '2018-01-26 14:41:33', 'tweet', 'Porto Alegre', 'tianoklein down 2']\n['tianoklein', '2018-01-26 14:56:34', 'tweet', 'Porto Alegre', 'tianoklein up 22']\n['tianoklein', '2018-01-26 15:00:41', 'tweet', 'Porto Alegre', 'tianoklein up 55']\n['tianoklein', '2018-01-26 15:00:51', 'tweet', 'Porto Alegre', 'tianoklein down 55']\n['tianoklein', '2018-01-26 15:03:52', 'tweet', 'Porto Alegre', 'tianoklein up 6']\n['tianoklein', '2018-01-26 15:08:45', 'tweet', 'Porto Alegre', 'tianoklein down 1']\n['tianoklein', '2018-01-26 15:09:27', 'tweet', 'Porto Alegre', 'tianoklein down 2']\n['tianoklein', '2018-01-26 15:10:10', 'tweet', 'Porto Alegre', 'tianoklein down 3']\n['tianoklein', '2018-01-26 15:12:17', 'tweet', 'Porto Alegre', 'tianoklein up 4']\n['tianoklein', '2018-01-26 15:12:37', 'tweet', 'Porto Alegre', 'tianoklein left 1']\n['tianoklein', '2018-01-26 15:12:51', 'tweet', 'Porto Alegre', 'tianoklein up 5']\n['tianoklein', '2018-01-26 15:13:05', 'tweet', 'Porto Alegre', 'tianoklein up 6']\n['tianoklein', '2018-01-26 15:15:47', 'tweet', 'Porto Alegre', 'tianoklein up 1']\n['tianoklein', '2018-01-26 15:19:36', 'tweet', 'Porto Alegre', 'tianoklein up 111']\n['tianoklein', '2018-01-26 15:49:37', 'tweet', 'Porto Alegre', 'tianoklein up']\n['tianoklein', '2018-01-26 15:53:54', 'tweet', 'Porto Alegre', 'tianoklein down 1']\n['tianoklein', '2018-01-26 15:56:25', 'tweet', 'Porto Alegre', 'tianoklein up']\n['tianoklein', '2018-01-26 15:58:29', 'tweet', 'Porto Alegre', 'tianoklein up 2']\n['tianoklein', '2018-01-26 16:00:11', 'tweet', 'Porto Alegre', 'tianoklein down 4']\n"
                }
            ]
        }
    ], 
    "nbformat_minor": 1
}