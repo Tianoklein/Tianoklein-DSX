{
    "nbformat_minor": 1, 
    "cells": [
        {
            "source": "### Start JVM", 
            "cell_type": "markdown", 
            "metadata": {}
        }, 
        {
            "execution_count": null, 
            "cell_type": "code", 
            "metadata": {
                "collapsed": true
            }, 
            "outputs": [], 
            "source": "# Start JVM\nimport jpype\njLocation = 'C:\\\\Program Files\\\\Java\\\\jdk1.7.0_79\\\\ojdbc7.jar'\njFile = ('-Djava.class.path='+ jLocation)\njHome = jpype.getDefaultJVMPath()\njpype.startJVM(jHome, jFile)"
        }, 
        {
            "source": "### Start Connection JDBC", 
            "cell_type": "markdown", 
            "metadata": {}
        }, 
        {
            "execution_count": null, 
            "cell_type": "code", 
            "metadata": {}, 
            "outputs": [], 
            "source": "#!pip install jaydebeapi\nimport jaydebeapi\ndsn_database = \"ORCL\"         \ndsn_hostname = \"xxx.xxx.xxx.xxx\"\ndsn_port = \"1521\"             \ndsn_uid = \"__DBUSER__\"\ndsn_pwd = \"__DBPASSWORD__\"  \n\njConnect = dsn_uid + '/' + dsn_pwd + '@' + dsn_hostname + ':' + dsn_port + ':' + dsn_database\nconn = jaydebeapi.connect('oracle.jdbc.driver.OracleDriver','jdbc:oracle:thin:' + jConnect )\n\n#Star Cursor\ncurs = conn.cursor()\ncurs.execute(\"INSERT INTO TESTE1 (nome, sobrenome) VALUES ('tiano', 'kLEIN')\")\ncurs.execute(\"select * from TESTE1\")\ncurs.fetchall()\n\ncurs.close()"
        }
    ], 
    "metadata": {
        "kernelspec": {
            "display_name": "Python 2 with Spark 2.1", 
            "name": "python2-spark21", 
            "language": "python"
        }, 
        "language_info": {
            "mimetype": "text/x-python", 
            "nbconvert_exporter": "python", 
            "version": "2.7.11", 
            "name": "python", 
            "file_extension": ".py", 
            "pygments_lexer": "ipython2", 
            "codemirror_mode": {
                "version": 2, 
                "name": "ipython"
            }
        }
    }, 
    "nbformat": 4
}