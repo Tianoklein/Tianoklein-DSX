{
    "nbformat_minor": 1, 
    "cells": [
        {
            "source": "# Sample Python Notebook - Running SQL against dashDB", 
            "cell_type": "markdown", 
            "metadata": {
                "collapsed": true
            }
        }, 
        {
            "source": "Before running the notebook, insert credentials cell here. To do so click \"Find and Add Data\" at top right of the screen, then select \"Connection\" and select \"Insert to code\" for the dashDB system of your choice. Make sure you have a dashDB connection set up in your project beforehand.\n<div> <img width = 370 height =286 src=\"https://ibm.box.com/shared/static/yc0airtlenm9ezywk3pigr453gkz3u1w.png\"> </div>", 
            "cell_type": "markdown", 
            "metadata": {}
        }, 
        {
            "source": "Next the ibmdbpy push down library for dashDB is loaded. It translates Pandas data frame operations into SQLs and machine learning routines executed inside dashDB. We also establish the database connection to dashDB based on the credentials inserted in the cell above (verify that credentials variable above is named **credentials_1**). ", 
            "cell_type": "markdown", 
            "metadata": {}
        }, 
        {
            "execution_count": null, 
            "cell_type": "code", 
            "metadata": {}, 
            "outputs": [], 
            "source": "credentials_1 = {'host','xx'}"
        }, 
        {
            "execution_count": null, 
            "cell_type": "code", 
            "metadata": {}, 
            "outputs": [], 
            "source": "import ibmdbpy\nfrom ibmdbpy import IdaDataBase\nidadb = idadb = IdaDataBase(dsn=\"DASHDB;Database=BLUDB;Hostname=\" + credentials_1[\"host\"] + \";Port=\" + credentials_1[\"port\"] + \";PROTOCOL=TCPIP;UID=\" + credentials_1[\"username\"] + \";PWD=\" + credentials_1[\"password\"])"
        }, 
        {
            "source": "### Creating SQL-based data frames\nData remains in dashDB until operations are performed on the data frames, like in subsequent cell.", 
            "cell_type": "markdown", 
            "metadata": {}
        }, 
        {
            "execution_count": null, 
            "cell_type": "code", 
            "metadata": {}, 
            "outputs": [], 
            "source": "from ibmdbpy import IdaDataFrame\nretailSummary = idadb.ida_query(\"SELECT CLOSE_DAY_KEY, EMPLOYEE_KEY, GROSS_MARGIN, GROSS_PROFIT, ORDER_DAY_KEY, \" +\n                                       \"ORDER_METHOD_KEY, ORGANIZATION_KEY, PRODUCT_KEY, PROMOTION_KEY, \" +\n                                       \"QUANTITY, RETAILER_KEY RETAILER_SITE_KEY, SALES_ORDER_KEY, SALE_TOTAL, \" +\n                                       \"SHIP_DAY_KEY, UNIT_COST, UNIT_PRICE, UNIT_SALE_PRICE \" +\n                                \"FROM GOSALESDW.SLS_SALES_FACT \" +\n                                \"WHERE QUANTITY > 9000 \" +\n                                \"ORDER BY GROSS_PROFIT DESC\")\nnumberofSales = idadb.ida_scalar_query(\"SELECT count(*) FROM GOSALESDW.EMP_EXPENSE_FACT\")"
        }, 
        {
            "execution_count": null, 
            "cell_type": "code", 
            "metadata": {}, 
            "outputs": [], 
            "source": "print(\"Number of total sales: \" + str(numberofSales))\nprint(\"Retail Summary: \")\nretailSummary"
        }, 
        {
            "execution_count": null, 
            "cell_type": "code", 
            "metadata": {}, 
            "outputs": [], 
            "source": ""
        }, 
        {
            "execution_count": null, 
            "cell_type": "code", 
            "metadata": {}, 
            "outputs": [], 
            "source": ""
        }, 
        {
            "execution_count": null, 
            "cell_type": "code", 
            "metadata": {}, 
            "outputs": [], 
            "source": ""
        }
    ], 
    "metadata": {
        "kernelspec": {
            "display_name": "Python 3.5 (Experimental) with Spark 2.1", 
            "name": "python3-spark21", 
            "language": "python"
        }, 
        "language_info": {
            "mimetype": "text/x-python", 
            "nbconvert_exporter": "python", 
            "version": "3.5.2", 
            "name": "python", 
            "file_extension": ".py", 
            "pygments_lexer": "ipython3", 
            "codemirror_mode": {
                "version": 3, 
                "name": "ipython"
            }
        }
    }, 
    "nbformat": 4
}